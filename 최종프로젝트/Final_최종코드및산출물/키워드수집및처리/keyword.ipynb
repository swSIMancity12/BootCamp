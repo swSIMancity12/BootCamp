{
 "cells": [
  {
   "cell_type": "code",
   "execution_count": 14,
   "id": "a4e0526c-11a0-4bd0-a943-109686f6d103",
   "metadata": {
    "tags": []
   },
   "outputs": [],
   "source": [
    "import pandas as pd\n",
    "import matplotlib.pyplot as plt\n",
    "from sklearn.feature_extraction.text import CountVectorizer\n",
    "import matplotlib.font_manager as fm\n",
    "import urllib.request\n",
    "import os"
   ]
  },
  {
   "cell_type": "code",
   "execution_count": null,
   "id": "4bb2719d-f09c-42f4-9c2d-4bec53b94bae",
   "metadata": {
    "tags": []
   },
   "outputs": [],
   "source": [
    "file_path = 'keyword_final.csv'\n",
    "data = pd.read_csv(file_path)\n",
    "\n",
    "# 날짜 열을 datetime 형식으로 변환\n",
    "data['일자'] = pd.to_datetime(data['일자'])\n",
    "\n",
    "# 연도와 분기 추출\n",
    "data['분기'] = data['일자'].dt.quarter\n",
    "\n",
    "# 연도와 분기별로 그룹화하고 키워드를 리스트로 결합\n",
    "quarterly_keywords = data.groupby(['분기'])['키워드'].apply(lambda x: ' '.join(x)).reset_index()\n",
    "\n",
    "# 분기별 키워드 빈도를 계산하는 함수\n",
    "def get_quarterly_keywords(df):\n",
    "    vectorizer = CountVectorizer()\n",
    "    df['키워드_빈도'] = df['키워드'].apply(lambda x: vectorizer.fit_transform([x]).toarray().sum(axis=0))\n",
    "    df['키워드'] = df['키워드'].apply(lambda x: vectorizer.get_feature_names_out())\n",
    "    return df\n",
    "\n",
    "quarterly_keywords = get_quarterly_keywords(quarterly_keywords)\n",
    "\n",
    "# 분기별 새롭게 등장한 키워드를 찾는 함수\n",
    "def find_new_keywords(df):\n",
    "    new_keywords = []\n",
    "    for i in range(1, len(df)):\n",
    "        current_keywords = set(df.iloc[i]['키워드'])\n",
    "        previous_keywords = set(df.iloc[i-1]['키워드'])\n",
    "        new_in_quarter = current_keywords - previous_keywords\n",
    "        for keyword in new_in_quarter:\n",
    "            new_keywords.append({\n",
    "                '분기': df.iloc[i]['분기'],\n",
    "                '키워드': keyword\n",
    "            })\n",
    "    return pd.DataFrame(new_keywords)\n",
    "\n",
    "new_keywords = find_new_keywords(quarterly_keywords)\n",
    "\n",
    "# 분기별 새롭게 등장한 키워드 시각화\n",
    "def plot_new_keywords(df):\n",
    "    plt.figure(figsize=(12, 8))\n",
    "    quarters = df.groupby(['연도', '분기']).size().reset_index().rename(columns={0: 'count'})\n",
    "    for _, row in quarters.iterrows():\n",
    "        quarter_keywords = df[(df['연도'] == row['연도']) & (df['분기'] == row['분기'])]\n",
    "        plt.barh(quarter_keywords['키워드'], range(len(quarter_keywords)), label=f\"{row['연도']} Q{row['분기']}\")\n",
    "    \n",
    "    plt.xlabel('등장 순위')\n",
    "    plt.ylabel('키워드', fontproperties=fontprop)\n",
    "    plt.title('분기별 새롭게 등장한 키워드', fontproperties=fontprop)\n",
    "    plt.legend()\n",
    "    plt.show()\n",
    "\n",
    "plot_new_keywords(new_keywords)\n",
    "\n",
    "# 분기별 키워드를 CSV 파일로 저장\n",
    "def save_quarterly_keywords(df, output_dir='quarterly_keywords'):\n",
    "    if not os.path.exists(output_dir):\n",
    "        os.makedirs(output_dir)\n",
    "    \n",
    "    quarters = df.groupby(['분기'])\n",
    "    for (year, quarter), group in quarters:\n",
    "        filename = f'{output_dir}/{year}_Q{quarter}_keywords.csv'\n",
    "        group.to_csv(filename, index=False, encoding='utf-8-sig')\n",
    "        print(f\"Saved {filename}\")\n",
    "\n",
    "save_quarterly_keywords(new_keywords)"
   ]
  },
  {
   "cell_type": "code",
   "execution_count": null,
   "id": "ba7c8fc7-658b-4701-9b70-0a012fb6ab8c",
   "metadata": {},
   "outputs": [],
   "source": []
  }
 ],
 "metadata": {
  "environment": {
   "kernel": "my_kernel",
   "name": "workbench-notebooks.m123",
   "type": "gcloud",
   "uri": "us-docker.pkg.dev/deeplearning-platform-release/gcr.io/workbench-notebooks:m123"
  },
  "kernelspec": {
   "display_name": "Python (my_kernel)",
   "language": "python",
   "name": "my_kernel"
  },
  "language_info": {
   "codemirror_mode": {
    "name": "ipython",
    "version": 3
   },
   "file_extension": ".py",
   "mimetype": "text/x-python",
   "name": "python",
   "nbconvert_exporter": "python",
   "pygments_lexer": "ipython3",
   "version": "3.10.14"
  }
 },
 "nbformat": 4,
 "nbformat_minor": 5
}
